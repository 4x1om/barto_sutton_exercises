{
 "cells": [
  {
   "cell_type": "markdown",
   "metadata": {},
   "source": [
    "I will graph:\n",
    "\n",
    "- episodes vs timestep\n",
    "- timesteps per ep. vs episode\n",
    "- policy heatmap\n"
   ]
  },
  {
   "cell_type": "code",
   "execution_count": 29,
   "metadata": {},
   "outputs": [],
   "source": [
    "import numpy as np\n",
    "import gymnasium as gym\n",
    "from gymnasium import spaces\n",
    "import matplotlib.pyplot as plt\n",
    "from matplotlib.pyplot import Axes"
   ]
  },
  {
   "cell_type": "code",
   "execution_count": 217,
   "metadata": {},
   "outputs": [],
   "source": [
    "class WindyGridworld(gym.Env):\n",
    "    TARGET = np.array((3, 7))\n",
    "    WIND_STRENGTH = [0, 0, 0, 1, 1, 1, 2, 2, 1, 0]\n",
    "    _ACTION_TO_DELTA = {\n",
    "        0: np.array((-1, 0)),\n",
    "        1: np.array((0, 1)),\n",
    "        2: np.array((1, 0)),\n",
    "        3: np.array((0, -1)),\n",
    "    }\n",
    "\n",
    "    @staticmethod\n",
    "    def _clamp(state):\n",
    "        return np.clip(state, [0, 0], [6, 9])\n",
    "\n",
    "    def __init__(self):\n",
    "        super().__init__()\n",
    "        self.observation_space = spaces.MultiDiscrete([7, 10])\n",
    "        self.action_space = spaces.Discrete(4)\n",
    "        self._state = None\n",
    "        self._timestep = None\n",
    "\n",
    "    def reset(self):\n",
    "        self._state = np.array((3, 0))\n",
    "        self._timestep = 0\n",
    "        return self._state, {\"timestep\": 0}\n",
    "\n",
    "    def step(self, action):\n",
    "        wind = np.array((-self.WIND_STRENGTH[self._state[1]], 0))\n",
    "        self._state = self._clamp(self._state + wind)\n",
    "        delta = self._ACTION_TO_DELTA[action]\n",
    "        self._state = self._clamp(self._state + delta)\n",
    "\n",
    "        self._timestep += 1\n",
    "        reward = -1\n",
    "        terminated = np.array_equal(self._state, self.TARGET)\n",
    "        truncated = self._timestep >= 100\n",
    "\n",
    "        return self._state, reward, terminated, truncated, {\"timestep\": self._timestep}"
   ]
  },
  {
   "cell_type": "code",
   "execution_count": 222,
   "metadata": {},
   "outputs": [],
   "source": [
    "epsilon = 0.1\n",
    "epsilon_final = 0.01\n",
    "epsilon_decay = 0.99\n",
    "alpha = 0.5\n",
    "alpha_final = 0.1\n",
    "alpha_decay = 0.995\n",
    "gamma = 1.0\n",
    "training_t = 8000\n",
    "\n",
    "q = np.zeros((7, 10, 4))\n",
    "\n",
    "\n",
    "def epsilon_greedy(s):\n",
    "    if np.random.rand() < epsilon:\n",
    "        return np.random.choice(range(4))\n",
    "    i, j = s\n",
    "    return np.argmax(q[i, j])\n",
    "\n",
    "\n",
    "env = WindyGridworld()\n",
    "\n",
    "total_t = 0\n",
    "ep_timesteps = []\n",
    "while total_t < training_t:\n",
    "    s, _ = env.reset()\n",
    "    a = epsilon_greedy(s)\n",
    "    done = False\n",
    "    while not done:\n",
    "        s_prime, r, terminated, truncated, info = env.step(a)\n",
    "        a_prime = epsilon_greedy(s_prime)\n",
    "\n",
    "        td_error = r + gamma * q[tuple(s_prime) + (a_prime,)] - q[tuple(s) + (a,)]\n",
    "        q[tuple(s) + (a,)] += alpha * td_error\n",
    "\n",
    "        s = s_prime\n",
    "        a = a_prime\n",
    "        done = terminated or truncated\n",
    "    ep_timesteps.append(info[\"timestep\"])\n",
    "    total_t += info[\"timestep\"]\n",
    "    alpha = max(alpha_final, alpha * alpha_decay)\n",
    "    epsilon = max(epsilon_final, epsilon * epsilon_decay)\n",
    "\n",
    "greedy_pi = np.argmax(q, axis=2)\n",
    "greedy_pi[tuple(WindyGridworld.TARGET)] = -1"
   ]
  },
  {
   "cell_type": "code",
   "execution_count": 225,
   "metadata": {},
   "outputs": [
    {
     "data": {
      "text/plain": [
       "[100,\n",
       " 100,\n",
       " 100,\n",
       " 100,\n",
       " 100,\n",
       " 100,\n",
       " 100,\n",
       " 100,\n",
       " 100,\n",
       " 100,\n",
       " 100,\n",
       " 100,\n",
       " 100,\n",
       " 65,\n",
       " 100,\n",
       " 93,\n",
       " 100,\n",
       " 100,\n",
       " 38,\n",
       " 100,\n",
       " 49,\n",
       " 100,\n",
       " 84,\n",
       " 68,\n",
       " 40,\n",
       " 100,\n",
       " 100,\n",
       " 67,\n",
       " 65,\n",
       " 38,\n",
       " 74,\n",
       " 45,\n",
       " 100,\n",
       " 100,\n",
       " 92,\n",
       " 100,\n",
       " 74,\n",
       " 30,\n",
       " 62,\n",
       " 60,\n",
       " 51,\n",
       " 48,\n",
       " 100,\n",
       " 31,\n",
       " 86,\n",
       " 49,\n",
       " 26,\n",
       " 57,\n",
       " 62,\n",
       " 56,\n",
       " 39,\n",
       " 100,\n",
       " 59,\n",
       " 54,\n",
       " 100,\n",
       " 34,\n",
       " 69,\n",
       " 27,\n",
       " 45,\n",
       " 64,\n",
       " 37,\n",
       " 23,\n",
       " 92,\n",
       " 100,\n",
       " 28,\n",
       " 38,\n",
       " 39,\n",
       " 39,\n",
       " 39,\n",
       " 26,\n",
       " 27,\n",
       " 67,\n",
       " 38,\n",
       " 26,\n",
       " 65,\n",
       " 32,\n",
       " 73,\n",
       " 46,\n",
       " 60,\n",
       " 28,\n",
       " 32,\n",
       " 31,\n",
       " 42,\n",
       " 22,\n",
       " 30,\n",
       " 47,\n",
       " 24,\n",
       " 32,\n",
       " 29,\n",
       " 60,\n",
       " 20,\n",
       " 45,\n",
       " 28,\n",
       " 23,\n",
       " 53,\n",
       " 31,\n",
       " 18,\n",
       " 26,\n",
       " 29,\n",
       " 31,\n",
       " 27,\n",
       " 25,\n",
       " 35,\n",
       " 34,\n",
       " 28,\n",
       " 21,\n",
       " 72,\n",
       " 19,\n",
       " 36,\n",
       " 23,\n",
       " 35,\n",
       " 51,\n",
       " 28,\n",
       " 18,\n",
       " 36,\n",
       " 35,\n",
       " 19,\n",
       " 21,\n",
       " 30,\n",
       " 21,\n",
       " 20,\n",
       " 24,\n",
       " 24,\n",
       " 22,\n",
       " 42,\n",
       " 35,\n",
       " 51,\n",
       " 32,\n",
       " 38,\n",
       " 29,\n",
       " 15,\n",
       " 18,\n",
       " 30,\n",
       " 26,\n",
       " 19,\n",
       " 35,\n",
       " 30,\n",
       " 23,\n",
       " 31,\n",
       " 18,\n",
       " 20,\n",
       " 27,\n",
       " 28,\n",
       " 25,\n",
       " 17,\n",
       " 19,\n",
       " 21,\n",
       " 32,\n",
       " 17,\n",
       " 16,\n",
       " 18,\n",
       " 36,\n",
       " 20,\n",
       " 18,\n",
       " 23,\n",
       " 18,\n",
       " 19,\n",
       " 17,\n",
       " 37,\n",
       " 28,\n",
       " 23,\n",
       " 37,\n",
       " 20,\n",
       " 28,\n",
       " 24,\n",
       " 20,\n",
       " 20,\n",
       " 18,\n",
       " 33,\n",
       " 20,\n",
       " 20,\n",
       " 30]"
      ]
     },
     "execution_count": 225,
     "metadata": {},
     "output_type": "execute_result"
    }
   ],
   "source": [
    "ep_timesteps"
   ]
  },
  {
   "cell_type": "code",
   "execution_count": 224,
   "metadata": {},
   "outputs": [
    {
     "data": {
      "image/png": "[encoded data removed]",
      "text/plain": [
       "<Figure size 800x500 with 1 Axes>"
      ]
     },
     "metadata": {},
     "output_type": "display_data"
    }
   ],
   "source": [
    "fig, ax = plt.subplots(figsize=(8, 5))\n",
    "ax: Axes\n",
    "\n",
    "ax.plot(np.cumsum(ep_timesteps), range(len(ep_timesteps)))\n",
    "ax.set_xlabel(\"Cumulative timesteps\")\n",
    "ax.set_ylabel(\"Episodes\")\n",
    "\n",
    "plt.show()"
   ]
  },
  {
   "cell_type": "code",
   "execution_count": 227,
   "metadata": {},
   "outputs": [
    {
     "data": {
      "text/plain": [
       "array([-14.01262198, -13.83686642, -13.79919623, -13.80972205])"
      ]
     },
     "execution_count": 227,
     "metadata": {},
     "output_type": "execute_result"
    }
   ],
   "source": [
    "q[4, 0]"
   ]
  },
  {
   "cell_type": "code",
   "execution_count": 223,
   "metadata": {},
   "outputs": [
    {
     "data": {
      "image/png": "[encoded data removed]",
      "text/plain": [
       "<Figure size 800x500 with 2 Axes>"
      ]
     },
     "metadata": {},
     "output_type": "display_data"
    }
   ],
   "source": [
    "fig, ax = plt.subplots(figsize=(8, 5))\n",
    "ax: Axes\n",
    "\n",
    "im = ax.imshow(np.max(q, axis=2), cmap=\"viridis\", aspect=\"auto\")\n",
    "ax.set_xticks(range(10), labels=WindyGridworld.WIND_STRENGTH)\n",
    "ax.set_xlabel(\"Wind strength\")\n",
    "# ax.set_yticks(range(7), labels=[\"\"] * 7)\n",
    "\n",
    "x, y = np.meshgrid(range(10), range(7))\n",
    "u = np.zeros_like(greedy_pi)\n",
    "v = np.zeros_like(greedy_pi)\n",
    "for i in range(7):\n",
    "    for j in range(10):\n",
    "        u[i, j] = 1 if greedy_pi[i, j] == 1 else -1 if greedy_pi[i, j] == 3 else 0\n",
    "        v[i, j] = 1 if greedy_pi[i, j] == 0 else -1 if greedy_pi[i, j] == 2 else 0\n",
    "ax.quiver(x, y, u, v, color=\"k\", scale=16, width=0.008, pivot=\"middle\")\n",
    "\n",
    "# ax.plot(2, 4, \"o\", markersize=10)\n",
    "\n",
    "cbar = fig.colorbar(im, ax=ax)\n",
    "cbar.set_label(\"State values\")\n",
    "\n",
    "ax.set_title(\"Computed policy\")\n",
    "\n",
    "plt.show()"
   ]
  },
  {
   "cell_type": "code",
   "execution_count": 184,
   "metadata": {},
   "outputs": [
    {
     "data": {
      "text/plain": [
       "array([3, 0])"
      ]
     },
     "execution_count": 184,
     "metadata": {},
     "output_type": "execute_result"
    }
   ],
   "source": [
    "s, _ = env.reset()\n",
    "s"
   ]
  },
  {
   "cell_type": "code",
   "execution_count": 205,
   "metadata": {},
   "outputs": [
    {
     "data": {
      "text/plain": [
       "(array([0, 7]), -1)"
      ]
     },
     "execution_count": 205,
     "metadata": {},
     "output_type": "execute_result"
    }
   ],
   "source": [
    "s, r, term, trun, info = env.step(3)\n",
    "s, r"
   ]
  },
  {
   "cell_type": "code",
   "execution_count": 87,
   "metadata": {},
   "outputs": [
    {
     "data": {
      "text/plain": [
       "(array([[0, 1],\n",
       "        [0, 1],\n",
       "        [0, 1]]),\n",
       " array([[0, 0],\n",
       "        [1, 1],\n",
       "        [2, 2]]))"
      ]
     },
     "execution_count": 87,
     "metadata": {},
     "output_type": "execute_result"
    }
   ],
   "source": [
    "np.array((3, 0)) == np.array([3, 0])\n",
    "np.random.rand()\n",
    "q = np.zeros((7, 10, 4))\n",
    "s = np.array((2, 3))\n",
    "q[tuple(s)]\n",
    "tuple(np.array((9, 8, 7)))\n",
    "(2, 3) + (1,)\n",
    "np.zeros_like(q)\n",
    "# i, j = np.meshgrid(range(3), range(3), indexing=\"ij\")\n",
    "# i, j\n",
    "# np.meshgrid(range(4), range(3))\n",
    "# np.zeros_like(i)\n",
    "x, y = np.meshgrid(range(2), range(3))\n",
    "x, y"
   ]
  }
 ],
 "metadata": {
  "kernelspec": {
   "display_name": ".venv",
   "language": "python",
   "name": "python3"
  },
  "language_info": {
   "codemirror_mode": {
    "name": "ipython",
    "version": 3
   },
   "file_extension": ".py",
   "mimetype": "text/x-python",
   "name": "python",
   "nbconvert_exporter": "python",
   "pygments_lexer": "ipython3",
   "version": "3.10.12"
  }
 },
 "nbformat": 4,
 "nbformat_minor": 2
}
