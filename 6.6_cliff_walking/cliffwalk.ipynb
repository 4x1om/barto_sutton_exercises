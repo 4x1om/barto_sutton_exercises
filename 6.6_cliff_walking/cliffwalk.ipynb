{
 "cells": [
  {
   "cell_type": "code",
   "execution_count": 444,
   "metadata": {},
   "outputs": [
    {
     "name": "stdout",
     "output_type": "stream",
     "text": [
      "Note: you may need to restart the kernel to use updated packages.\n"
     ]
    }
   ],
   "source": [
    "%pip install --quiet gymnasium numpy matplotlib optuna"
   ]
  },
  {
   "cell_type": "code",
   "execution_count": 445,
   "metadata": {},
   "outputs": [],
   "source": [
    "import gymnasium as gym\n",
    "from gymnasium import spaces\n",
    "import matplotlib.pyplot as plt\n",
    "import numpy as np\n",
    "import optuna\n",
    "from optuna import logging"
   ]
  },
  {
   "cell_type": "code",
   "execution_count": 83,
   "metadata": {},
   "outputs": [
    {
     "data": {
      "text/plain": [
       "'2.2.0'"
      ]
     },
     "execution_count": 83,
     "metadata": {},
     "output_type": "execute_result"
    }
   ],
   "source": [
    "np.__version__"
   ]
  },
  {
   "cell_type": "markdown",
   "metadata": {},
   "source": [
    "Directions: 0123 = up right down left\n"
   ]
  },
  {
   "cell_type": "code",
   "execution_count": 300,
   "metadata": {},
   "outputs": [],
   "source": [
    "class CliffWalkEnv(gym.Env):\n",
    "    DELTA = {\n",
    "        0: np.array([-1, 0]),\n",
    "        1: np.array([0, 1]),\n",
    "        2: np.array([1, 0]),\n",
    "        3: np.array([0, -1]),\n",
    "    }\n",
    "    TRUNCATE_TIME = 100\n",
    "\n",
    "    def __init__(self):\n",
    "        super().__init__()\n",
    "        self.observation_space = spaces.MultiDiscrete([4, 11])\n",
    "        self.action_space = spaces.Discrete(4)\n",
    "\n",
    "        self._start = np.array([3, 0])\n",
    "        self._goal = np.array([3, 10])\n",
    "\n",
    "    def _clamp(self):\n",
    "        i, j = self._state\n",
    "        self._state = np.array([np.clip(i, 0, 3), np.clip(j, 0, 10)])\n",
    "\n",
    "    def reset(self):\n",
    "        self._state = self._start.copy()\n",
    "        self._timesteps = 0\n",
    "        self._total_rewards = 0\n",
    "        return tuple(self._state), {}\n",
    "\n",
    "    def step(self, action):\n",
    "        self._state += CliffWalkEnv.DELTA[action]\n",
    "        self._clamp()\n",
    "        i, j = self._state\n",
    "        if i == 3 and 1 <= j <= 9:\n",
    "            reward = -100\n",
    "            terminated = True\n",
    "        else:\n",
    "            reward = -1\n",
    "            if np.array_equal(self._state, self._goal):\n",
    "                terminated = True\n",
    "            else:\n",
    "                terminated = False\n",
    "        self._timesteps += 1\n",
    "        truncated = self._timesteps >= CliffWalkEnv.TRUNCATE_TIME\n",
    "        if truncated:\n",
    "            reward = -100\n",
    "        self._total_rewards += reward\n",
    "\n",
    "        return (\n",
    "            tuple(self._state),\n",
    "            reward,\n",
    "            terminated,\n",
    "            truncated,\n",
    "            {\"total_rewards\": self._total_rewards} if terminated or truncated else {},\n",
    "        )"
   ]
  },
  {
   "cell_type": "code",
   "execution_count": 284,
   "metadata": {},
   "outputs": [
    {
     "data": {
      "text/plain": [
       "((np.int64(3), np.int64(0)), {})"
      ]
     },
     "execution_count": 284,
     "metadata": {},
     "output_type": "execute_result"
    }
   ],
   "source": [
    "env = CliffWalkEnv()\n",
    "env.reset()"
   ]
  },
  {
   "cell_type": "code",
   "execution_count": 298,
   "metadata": {},
   "outputs": [
    {
     "data": {
      "text/plain": [
       "((np.int64(3), np.int64(10)), -1, True, False, {'total_rewards': -14})"
      ]
     },
     "execution_count": 298,
     "metadata": {},
     "output_type": "execute_result"
    }
   ],
   "source": [
    "env.step(2)"
   ]
  },
  {
   "cell_type": "code",
   "execution_count": 394,
   "metadata": {},
   "outputs": [],
   "source": [
    "def epsilon_greedy(epsilon, q, s):\n",
    "    if np.random.random() < epsilon:\n",
    "        return np.random.choice(range(4))\n",
    "    return np.argmax(q[s])"
   ]
  },
  {
   "cell_type": "code",
   "execution_count": 438,
   "metadata": {},
   "outputs": [],
   "source": [
    "def sarsa(alpha, gamma, epsilon, episodes):\n",
    "    env = CliffWalkEnv()\n",
    "    q = np.zeros((4, 11, 4))\n",
    "    vis = np.zeros((4, 11))\n",
    "    episode_rewards = []\n",
    "    for _ in range(episodes):\n",
    "        s, _ = env.reset()\n",
    "        vis[s] += 1\n",
    "        a = epsilon_greedy(epsilon, q, s)\n",
    "        done = False\n",
    "        while not done:\n",
    "            s_prime, r, terminated, truncated, info = env.step(a)\n",
    "            vis[s_prime] += 1\n",
    "            a_prime = epsilon_greedy(epsilon, q, s_prime)\n",
    "            q[s + (a,)] += alpha * (r + gamma * q[s_prime + (a_prime,)] - q[s + (a,)])\n",
    "            s = s_prime\n",
    "            a = a_prime\n",
    "            done = terminated or truncated\n",
    "        episode_rewards.append(info[\"total_rewards\"])\n",
    "\n",
    "    pi = np.argmax(q, axis=2)\n",
    "    return pi, {\"episode_rewards\": episode_rewards, \"vis\": vis, \"q\": q}\n",
    "\n",
    "\n",
    "def q_learning(alpha, gamma, epsilon, episodes):\n",
    "    env = CliffWalkEnv()\n",
    "    q = np.zeros((4, 11, 4))\n",
    "    episode_rewards = []\n",
    "    for _ in range(episodes):\n",
    "        s, _ = env.reset()\n",
    "        done = False\n",
    "        while not done:\n",
    "            a = epsilon_greedy(epsilon, q, s)\n",
    "            s_prime, r, terminated, truncated, info = env.step(a)\n",
    "            q[s + (a,)] += alpha * (r + gamma * np.max(q[s_prime]) - q[s + (a,)])\n",
    "            s = s_prime\n",
    "            done = terminated or truncated\n",
    "        episode_rewards.append(info[\"total_rewards\"])\n",
    "\n",
    "    pi = np.argmax(q, axis=2)\n",
    "    return pi, {\"episode_rewards\": episode_rewards, \"q\": q}"
   ]
  },
  {
   "cell_type": "code",
   "execution_count": 436,
   "metadata": {},
   "outputs": [
    {
     "name": "stderr",
     "output_type": "stream",
     "text": [
      "[I 2024-12-22 17:16:47,134] A new study created in memory with name: no-name-5c4cd6f7-0011-4d36-9bf5-cbb1eb4b2e20\n",
      "[I 2024-12-22 17:16:47,974] Trial 0 finished with value: -23.96666666666667 and parameters: {'alpha': 0.09403059687845904, 'epsilon': 0.013286191520689342}. Best is trial 0 with value: -23.96666666666667.\n",
      "[I 2024-12-22 17:16:48,325] Trial 1 finished with value: -17.34 and parameters: {'alpha': 0.38910737599735246, 'epsilon': 0.02317862400404218}. Best is trial 1 with value: -17.34.\n",
      "[I 2024-12-22 17:16:49,398] Trial 2 finished with value: -78.01333333333334 and parameters: {'alpha': 0.07259026622123207, 'epsilon': 0.0021395599582681593}. Best is trial 1 with value: -17.34.\n",
      "[I 2024-12-22 17:16:49,827] Trial 3 finished with value: -16.099999999999998 and parameters: {'alpha': 0.2555256463299233, 'epsilon': 0.00886063344798895}. Best is trial 3 with value: -16.099999999999998.\n",
      "[I 2024-12-22 17:16:50,456] Trial 4 finished with value: -20.573333333333334 and parameters: {'alpha': 0.12916006662981844, 'epsilon': 0.0007660743811823903}. Best is trial 3 with value: -16.099999999999998.\n",
      "[I 2024-12-22 17:16:51,128] Trial 5 finished with value: -21.04 and parameters: {'alpha': 0.13562009343719048, 'epsilon': 0.00010708512642004023}. Best is trial 3 with value: -16.099999999999998.\n",
      "[I 2024-12-22 17:16:52,158] Trial 6 finished with value: -46.85333333333333 and parameters: {'alpha': 0.06627782783241296, 'epsilon': 0.0026505590117685694}. Best is trial 3 with value: -16.099999999999998.\n",
      "[I 2024-12-22 17:16:53,192] Trial 7 finished with value: -29.646666666666665 and parameters: {'alpha': 0.06071871982031698, 'epsilon': 0.013879258851933241}. Best is trial 3 with value: -16.099999999999998.\n",
      "[I 2024-12-22 17:16:54,003] Trial 8 finished with value: -24.706666666666667 and parameters: {'alpha': 0.15698768301586652, 'epsilon': 0.0391647506653164}. Best is trial 3 with value: -16.099999999999998.\n",
      "[I 2024-12-22 17:16:55,033] Trial 9 finished with value: -22.646666666666665 and parameters: {'alpha': 0.11147672743609713, 'epsilon': 0.0003393119312348059}. Best is trial 3 with value: -16.099999999999998.\n",
      "[I 2024-12-22 17:16:55,606] Trial 10 finished with value: -15.226666666666667 and parameters: {'alpha': 0.292250219172268, 'epsilon': 0.006186361021610038}. Best is trial 10 with value: -15.226666666666667.\n",
      "[I 2024-12-22 17:16:56,056] Trial 11 finished with value: -15.800000000000002 and parameters: {'alpha': 0.2960439375245909, 'epsilon': 0.004123792777615216}. Best is trial 10 with value: -15.226666666666667.\n",
      "[I 2024-12-22 17:16:56,727] Trial 12 finished with value: -15.353333333333333 and parameters: {'alpha': 0.2657164886940258, 'epsilon': 0.004316799062413492}. Best is trial 10 with value: -15.226666666666667.\n",
      "[I 2024-12-22 17:16:57,271] Trial 13 finished with value: -14.4 and parameters: {'alpha': 0.23390638183295231, 'epsilon': 0.001048976036202657}. Best is trial 13 with value: -14.4.\n",
      "[I 2024-12-22 17:16:57,629] Trial 14 finished with value: -13.333333333333334 and parameters: {'alpha': 0.47102271377501154, 'epsilon': 0.0007987145857657901}. Best is trial 14 with value: -13.333333333333334.\n",
      "[I 2024-12-22 17:16:57,976] Trial 15 finished with value: -14.0 and parameters: {'alpha': 0.47658619785947526, 'epsilon': 0.0008580875438719205}. Best is trial 14 with value: -13.333333333333334.\n",
      "[I 2024-12-22 17:16:58,302] Trial 16 finished with value: -14.0 and parameters: {'alpha': 0.49205331187201057, 'epsilon': 0.00029056714916268826}. Best is trial 14 with value: -13.333333333333334.\n",
      "[I 2024-12-22 17:16:58,618] Trial 17 finished with value: -14.006666666666666 and parameters: {'alpha': 0.475564947583764, 'epsilon': 0.0009176146020305651}. Best is trial 14 with value: -13.333333333333334.\n",
      "[I 2024-12-22 17:16:59,372] Trial 18 finished with value: -48.779999999999994 and parameters: {'alpha': 0.2009528200857894, 'epsilon': 0.0003074741485454952}. Best is trial 14 with value: -13.333333333333334.\n",
      "[I 2024-12-22 17:16:59,766] Trial 19 finished with value: -14.0 and parameters: {'alpha': 0.36980658340661376, 'epsilon': 0.00011435986047935123}. Best is trial 14 with value: -13.333333333333334.\n",
      "[I 2024-12-22 17:17:00,165] Trial 20 finished with value: -33.76666666666667 and parameters: {'alpha': 0.3690287939884951, 'epsilon': 0.092770534448909}. Best is trial 14 with value: -13.333333333333334.\n",
      "[I 2024-12-22 17:17:00,486] Trial 21 finished with value: -14.04 and parameters: {'alpha': 0.4908091330268487, 'epsilon': 0.0003777727992391087}. Best is trial 14 with value: -13.333333333333334.\n",
      "[I 2024-12-22 17:17:00,884] Trial 22 finished with value: -14.020000000000001 and parameters: {'alpha': 0.4202716714990795, 'epsilon': 0.0014387325258526115}. Best is trial 14 with value: -13.333333333333334.\n",
      "[I 2024-12-22 17:17:01,318] Trial 23 finished with value: -14.18 and parameters: {'alpha': 0.3209508542824153, 'epsilon': 0.00022718027746113635}. Best is trial 14 with value: -13.333333333333334.\n",
      "[I 2024-12-22 17:17:01,811] Trial 24 finished with value: -15.44 and parameters: {'alpha': 0.2006193211619745, 'epsilon': 0.0005535071372661804}. Best is trial 14 with value: -13.333333333333334.\n",
      "[I 2024-12-22 17:17:02,130] Trial 25 finished with value: -14.0 and parameters: {'alpha': 0.49272667119511415, 'epsilon': 0.00020460684747510387}. Best is trial 14 with value: -13.333333333333334.\n",
      "[I 2024-12-22 17:17:02,485] Trial 26 finished with value: -14.12 and parameters: {'alpha': 0.34778911334602436, 'epsilon': 0.0016916788405084116}. Best is trial 14 with value: -13.333333333333334.\n",
      "[I 2024-12-22 17:17:03,253] Trial 27 finished with value: -43.333333333333336 and parameters: {'alpha': 0.41779288215038696, 'epsilon': 0.0005618736491832534}. Best is trial 14 with value: -13.333333333333334.\n",
      "[I 2024-12-22 17:17:03,669] Trial 28 finished with value: -14.626666666666667 and parameters: {'alpha': 0.43537739501098416, 'epsilon': 0.00017851737967027856}. Best is trial 14 with value: -13.333333333333334.\n",
      "[I 2024-12-22 17:17:04,473] Trial 29 finished with value: -22.49333333333333 and parameters: {'alpha': 0.09422946567493552, 'epsilon': 0.0004936356012440409}. Best is trial 14 with value: -13.333333333333334.\n",
      "[I 2024-12-22 17:17:05,051] Trial 30 finished with value: -15.660000000000002 and parameters: {'alpha': 0.20879127154003235, 'epsilon': 0.0012143029496919718}. Best is trial 14 with value: -13.333333333333334.\n",
      "[I 2024-12-22 17:17:05,799] Trial 31 finished with value: -18.0 and parameters: {'alpha': 0.37405487517915137, 'epsilon': 0.00010170916431376292}. Best is trial 14 with value: -13.333333333333334.\n",
      "[I 2024-12-22 17:17:06,188] Trial 32 finished with value: -14.079999999999998 and parameters: {'alpha': 0.3432347810846279, 'epsilon': 0.00013946632711865566}. Best is trial 14 with value: -13.333333333333334.\n",
      "[I 2024-12-22 17:17:06,639] Trial 33 finished with value: -14.013333333333334 and parameters: {'alpha': 0.4174290753349505, 'epsilon': 0.00027514901030067923}. Best is trial 14 with value: -13.333333333333334.\n",
      "[I 2024-12-22 17:17:07,021] Trial 34 finished with value: -14.020000000000001 and parameters: {'alpha': 0.4503094986368961, 'epsilon': 0.0007011503916674163}. Best is trial 14 with value: -13.333333333333334.\n",
      "[I 2024-12-22 17:17:07,407] Trial 35 finished with value: -14.04 and parameters: {'alpha': 0.3781996461312654, 'epsilon': 0.00017563106660321254}. Best is trial 14 with value: -13.333333333333334.\n",
      "[I 2024-12-22 17:17:07,783] Trial 36 finished with value: -14.346666666666666 and parameters: {'alpha': 0.30345191555408624, 'epsilon': 0.00040541505301925815}. Best is trial 14 with value: -13.333333333333334.\n",
      "[I 2024-12-22 17:17:08,145] Trial 37 finished with value: -14.013333333333334 and parameters: {'alpha': 0.48955566544448437, 'epsilon': 0.001807264960334286}. Best is trial 14 with value: -13.333333333333334.\n",
      "[I 2024-12-22 17:17:08,621] Trial 38 finished with value: -15.126666666666667 and parameters: {'alpha': 0.25621476672362037, 'epsilon': 0.0007087753240162122}. Best is trial 14 with value: -13.333333333333334.\n",
      "[I 2024-12-22 17:17:09,035] Trial 39 finished with value: -14.0 and parameters: {'alpha': 0.3978084118689479, 'epsilon': 0.00013976599253816708}. Best is trial 14 with value: -13.333333333333334.\n",
      "[I 2024-12-22 17:17:09,977] Trial 40 finished with value: -36.92666666666667 and parameters: {'alpha': 0.051375532324672735, 'epsilon': 0.00319419447729867}. Best is trial 14 with value: -13.333333333333334.\n",
      "[I 2024-12-22 17:17:10,525] Trial 41 finished with value: -14.013333333333334 and parameters: {'alpha': 0.49928854181055404, 'epsilon': 0.0001857781170480767}. Best is trial 14 with value: -13.333333333333334.\n",
      "[I 2024-12-22 17:17:11,004] Trial 42 finished with value: -14.013333333333334 and parameters: {'alpha': 0.44988728452453886, 'epsilon': 0.00021756938112537706}. Best is trial 14 with value: -13.333333333333334.\n",
      "[I 2024-12-22 17:17:11,470] Trial 43 finished with value: -14.300000000000002 and parameters: {'alpha': 0.33021598612063136, 'epsilon': 0.00012907289575847438}. Best is trial 14 with value: -13.333333333333334.\n",
      "[I 2024-12-22 17:17:11,845] Trial 44 finished with value: -14.133333333333333 and parameters: {'alpha': 0.39150563869649835, 'epsilon': 0.0002680160608167001}. Best is trial 14 with value: -13.333333333333334.\n",
      "[I 2024-12-22 17:17:12,221] Trial 45 finished with value: -14.06 and parameters: {'alpha': 0.4477639488465371, 'epsilon': 0.00040206253863643294}. Best is trial 14 with value: -13.333333333333334.\n",
      "[I 2024-12-22 17:17:12,918] Trial 46 finished with value: -18.820000000000004 and parameters: {'alpha': 0.1576669936820987, 'epsilon': 0.000103816780366028}. Best is trial 14 with value: -13.333333333333334.\n",
      "[I 2024-12-22 17:17:13,696] Trial 47 finished with value: -15.393333333333333 and parameters: {'alpha': 0.3711058350466346, 'epsilon': 0.002298712797415993}. Best is trial 14 with value: -13.333333333333334.\n",
      "[I 2024-12-22 17:17:14,160] Trial 48 finished with value: -14.786666666666667 and parameters: {'alpha': 0.2696362259030078, 'epsilon': 0.0008252338624687593}. Best is trial 14 with value: -13.333333333333334.\n",
      "[I 2024-12-22 17:17:14,483] Trial 49 finished with value: -14.066666666666668 and parameters: {'alpha': 0.4983283177527732, 'epsilon': 0.008515125581169585}. Best is trial 14 with value: -13.333333333333334.\n"
     ]
    }
   ],
   "source": [
    "def objective(trial):\n",
    "    alpha = trial.suggest_float(\"alpha\", 0.05, 0.5, log=True)\n",
    "    epsilon = trial.suggest_float(\"epsilon\", 1e-4, 0.1, log=True)\n",
    "    run_averages = []\n",
    "    for run in range(3):\n",
    "        _, info = q_learning(alpha, 1.0, epsilon, 200)\n",
    "        run_averages.append(np.average(info[\"episode_rewards\"][-50:]))\n",
    "    return np.average(run_averages)\n",
    "\n",
    "\n",
    "logging.set_verbosity(logging.INFO)\n",
    "study = optuna.create_study(direction=\"maximize\")\n",
    "study.optimize(objective, n_trials=50)"
   ]
  },
  {
   "cell_type": "code",
   "execution_count": 437,
   "metadata": {},
   "outputs": [
    {
     "data": {
      "text/plain": [
       "{'alpha': 0.47102271377501154, 'epsilon': 0.0007987145857657901}"
      ]
     },
     "execution_count": 437,
     "metadata": {},
     "output_type": "execute_result"
    }
   ],
   "source": [
    "study.best_params"
   ]
  },
  {
   "cell_type": "code",
   "execution_count": 440,
   "metadata": {},
   "outputs": [],
   "source": [
    "alpha = 0.5\n",
    "gamma = 1\n",
    "epsilon = 0.00\n",
    "\n",
    "episodes = 500\n",
    "\n",
    "pi_sarsa, info = sarsa(alpha, gamma, epsilon, episodes)\n",
    "episode_rewards_sarsa = info[\"episode_rewards\"]\n",
    "\n",
    "pi_q, info = q_learning(alpha, gamma, epsilon, episodes)\n",
    "episode_rewards_q = info[\"episode_rewards\"]\n",
    "q_q = info[\"q\"]"
   ]
  },
  {
   "cell_type": "code",
   "execution_count": 439,
   "metadata": {},
   "outputs": [
    {
     "data": {
      "image/png": "[encoded data removed]",
      "text/plain": [
       "<Figure size 640x480 with 1 Axes>"
      ]
     },
     "metadata": {},
     "output_type": "display_data"
    }
   ],
   "source": [
    "fig, ax = plt.subplots()\n",
    "\n",
    "window_size = 30\n",
    "kernel = np.ones(window_size) / window_size\n",
    "\n",
    "ax.plot(\n",
    "    range(window_size - 1, episodes),\n",
    "    np.convolve(episode_rewards_sarsa, kernel, \"valid\"),\n",
    "    color=\"skyblue\",\n",
    "    label=\"Sarsa\",\n",
    ")\n",
    "ax.plot(\n",
    "    range(window_size - 1, episodes),\n",
    "    np.convolve(episode_rewards_q, kernel, \"valid\"),\n",
    "    color=\"red\",\n",
    "    label=\"Q-learning\",\n",
    ")\n",
    "ax.set_xlabel(\"Episodes\")\n",
    "ax.set_ylabel(\"Sum of rewards during episode\")\n",
    "ax.set_ylim([-110, -5])\n",
    "\n",
    "ax.legend()\n",
    "\n",
    "plt.show()"
   ]
  },
  {
   "cell_type": "code",
   "execution_count": 441,
   "metadata": {},
   "outputs": [
    {
     "data": {
      "image/png": "[encoded data removed]",
      "text/plain": [
       "<Figure size 1000x600 with 1 Axes>"
      ]
     },
     "metadata": {},
     "output_type": "display_data"
    }
   ],
   "source": [
    "fig, ax = plt.subplots(figsize=(10, 6))\n",
    "\n",
    "grid = np.ones_like(pi_sarsa, dtype=float)\n",
    "grid[3, 1:10] = 0.3\n",
    "\n",
    "ax.imshow(grid, cmap=\"gray\", vmin=0, vmax=1)\n",
    "\n",
    "ax.text(0, 3, \"S\", ha=\"center\", va=\"center\", color=\"k\", size=\"xx-large\")\n",
    "ax.text(10, 3, \"G\", ha=\"center\", va=\"center\", color=\"k\", size=\"xx-large\")\n",
    "\n",
    "\n",
    "xv, yv = np.meshgrid(np.arange(11), np.arange(3))\n",
    "dx_sarsa = np.zeros_like(xv, dtype=float)\n",
    "dy_sarsa = np.zeros_like(yv, dtype=float)\n",
    "dx_q = np.zeros_like(xv, dtype=float)\n",
    "dy_q = np.zeros_like(yv, dtype=float)\n",
    "\n",
    "DIR_X = {0: 0, 1: 1, 2: 0, 3: -1}\n",
    "DIR_Y = {0: -1, 1: 0, 2: 1, 3: -0}\n",
    "\n",
    "for i in range(3):\n",
    "    for j in range(11):\n",
    "        dx_sarsa[i, j] = DIR_X[pi_sarsa[i, j]]\n",
    "        dy_sarsa[i, j] = DIR_Y[pi_sarsa[i, j]]\n",
    "\n",
    "        dx_q[i, j] = DIR_X[pi_q[i, j]]\n",
    "        dy_q[i, j] = DIR_Y[pi_q[i, j]]\n",
    "\n",
    "arrow_offset = 0.1\n",
    "ax.quiver(\n",
    "    xv - arrow_offset,\n",
    "    yv - arrow_offset,\n",
    "    dx_sarsa,\n",
    "    dy_sarsa,\n",
    "    color=\"skyblue\",\n",
    "    angles=\"xy\",\n",
    "    scale=25,\n",
    "    width=5e-3,\n",
    "    pivot=\"mid\",\n",
    "    label=\"Sarsa\",\n",
    ")\n",
    "ax.quiver(\n",
    "    xv + arrow_offset,\n",
    "    yv + arrow_offset,\n",
    "    dx_q,\n",
    "    dy_q,\n",
    "    color=\"red\",\n",
    "    angles=\"xy\",\n",
    "    scale=25,\n",
    "    width=5e-3,\n",
    "    pivot=\"mid\",\n",
    "    label=\"Q-learning\",\n",
    ")\n",
    "\n",
    "\n",
    "ax.set_xticks(range(11))\n",
    "ax.set_yticks(range(4))\n",
    "ax.set_xticks(np.arange(-0.5, pi_sarsa.shape[1], 1), minor=True)\n",
    "ax.set_yticks(np.arange(-0.5, pi_sarsa.shape[0], 1), minor=True)\n",
    "ax.xaxis.tick_top()\n",
    "\n",
    "ax.grid(which=\"minor\", color=\"k\", linewidth=0.5)\n",
    "ax.legend(bbox_to_anchor=(1.2, 1))\n",
    "\n",
    "plt.show()"
   ]
  },
  {
   "cell_type": "code",
   "execution_count": 442,
   "metadata": {},
   "outputs": [
    {
     "data": {
      "text/plain": [
       "array([[-11., -11., -10.,  -9.,  -8.,  -7.,  -6.,  -6.,  -5.,  -4.,  -3.],\n",
       "       [-12., -11., -10.,  -9.,  -8.,  -7.,  -6.,  -5.,  -4.,  -3.,  -2.],\n",
       "       [-13., -12., -10.,  -9.,  -9.,  -6.,  -5.,  -4.,  -3.,  -2.,  -1.],\n",
       "       [-14.,   0.,   0.,   0.,   0.,   0.,   0.,   0.,   0.,   0.,   0.]])"
      ]
     },
     "execution_count": 442,
     "metadata": {},
     "output_type": "execute_result"
    }
   ],
   "source": [
    "np.round(np.max(q_q, axis=2))"
   ]
  },
  {
   "cell_type": "code",
   "execution_count": 346,
   "metadata": {},
   "outputs": [
    {
     "data": {
      "text/plain": [
       "array([[550., 501., 464., 448., 392., 281., 233., 204., 237., 217., 182.],\n",
       "       [833., 707., 644., 552., 603., 679., 617., 541., 530., 539., 491.],\n",
       "       [842., 278., 221., 153., 207., 225., 126., 129.,  81.,  92., 473.],\n",
       "       [747.,  28.,   9.,   6.,   6.,   4.,   5.,   5.,   6.,   6., 413.]])"
      ]
     },
     "execution_count": 346,
     "metadata": {},
     "output_type": "execute_result"
    }
   ],
   "source": [
    "vis"
   ]
  },
  {
   "cell_type": "code",
   "execution_count": 263,
   "metadata": {},
   "outputs": [
    {
     "data": {
      "text/plain": [
       "array([ True,  True])"
      ]
     },
     "execution_count": 263,
     "metadata": {},
     "output_type": "execute_result"
    }
   ],
   "source": [
    "q = np.zeros((4, 11, 4))\n",
    "q[tuple(np.array([1, 2]))]\n",
    "(1, 2), (3,)\n",
    "# [np.random.choice(range(4)) for _ in range(100)]\n",
    "# np.argmax(q[(3, 0)])\n",
    "np.array([1, 2]) == np.array([1, 2])"
   ]
  },
  {
   "cell_type": "code",
   "execution_count": 141,
   "metadata": {},
   "outputs": [
    {
     "data": {
      "text/plain": [
       "(np.int64(2), np.int64(4))"
      ]
     },
     "execution_count": 141,
     "metadata": {},
     "output_type": "execute_result"
    }
   ],
   "source": [
    "pi = np.random.randint(0, 4, (4, 11))\n",
    "# pi[3][10]\n",
    "pi\n",
    "x, y = np.array([1, 2]) + np.array([1, 2])\n",
    "x, y"
   ]
  },
  {
   "cell_type": "code",
   "execution_count": 124,
   "metadata": {},
   "outputs": [
    {
     "data": {
      "text/plain": [
       "array([[2, 3, 2, 2, 0, 2, 2, 0, 3, 0, 0],\n",
       "       [0, 3, 3, 2, 0, 1, 1, 2, 0, 1, 2],\n",
       "       [2, 2, 3, 1, 0, 3, 2, 0, 3, 3, 3],\n",
       "       [0, 3, 3, 1, 2, 0, 1, 2, 0, 0, 2]])"
      ]
     },
     "execution_count": 124,
     "metadata": {},
     "output_type": "execute_result"
    }
   ],
   "source": [
    "pi"
   ]
  },
  {
   "cell_type": "code",
   "execution_count": 98,
   "metadata": {},
   "outputs": [
    {
     "data": {
      "text/plain": [
       "np.int64(3)"
      ]
     },
     "execution_count": 98,
     "metadata": {},
     "output_type": "execute_result"
    }
   ],
   "source": [
    "xv[2, 3]"
   ]
  },
  {
   "cell_type": "code",
   "execution_count": 59,
   "metadata": {},
   "outputs": [
    {
     "data": {
      "text/plain": [
       "dtype('int64')"
      ]
     },
     "execution_count": 59,
     "metadata": {},
     "output_type": "execute_result"
    }
   ],
   "source": [
    "grid.dtype"
   ]
  }
 ],
 "metadata": {
  "kernelspec": {
   "display_name": ".venv",
   "language": "python",
   "name": "python3"
  },
  "language_info": {
   "codemirror_mode": {
    "name": "ipython",
    "version": 3
   },
   "file_extension": ".py",
   "mimetype": "text/x-python",
   "name": "python",
   "nbconvert_exporter": "python",
   "pygments_lexer": "ipython3",
   "version": "3.10.12"
  }
 },
 "nbformat": 4,
 "nbformat_minor": 2
}
