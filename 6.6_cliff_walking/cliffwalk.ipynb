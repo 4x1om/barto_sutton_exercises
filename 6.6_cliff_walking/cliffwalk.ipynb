{
 "cells": [
  {
   "cell_type": "code",
   "execution_count": 2,
   "metadata": {},
   "outputs": [
    {
     "name": "stdout",
     "output_type": "stream",
     "text": [
      "Note: you may need to restart the kernel to use updated packages.\n"
     ]
    }
   ],
   "source": [
    "%pip install --quiet gymnasium numpy matplotlib"
   ]
  },
  {
   "cell_type": "code",
   "execution_count": 218,
   "metadata": {},
   "outputs": [],
   "source": [
    "import gymnasium as gym\n",
    "from gymnasium import spaces\n",
    "import matplotlib.pyplot as plt\n",
    "import numpy as np"
   ]
  },
  {
   "cell_type": "code",
   "execution_count": 83,
   "metadata": {},
   "outputs": [
    {
     "data": {
      "text/plain": [
       "'2.2.0'"
      ]
     },
     "execution_count": 83,
     "metadata": {},
     "output_type": "execute_result"
    }
   ],
   "source": [
    "np.__version__"
   ]
  },
  {
   "cell_type": "markdown",
   "metadata": {},
   "source": [
    "Directions: 0123 = up right down left\n"
   ]
  },
  {
   "cell_type": "code",
   "execution_count": 300,
   "metadata": {},
   "outputs": [],
   "source": [
    "class CliffWalkEnv(gym.Env):\n",
    "    DELTA = {\n",
    "        0: np.array([-1, 0]),\n",
    "        1: np.array([0, 1]),\n",
    "        2: np.array([1, 0]),\n",
    "        3: np.array([0, -1]),\n",
    "    }\n",
    "    TRUNCATE_TIME = 100\n",
    "\n",
    "    def __init__(self):\n",
    "        super().__init__()\n",
    "        self.observation_space = spaces.MultiDiscrete([4, 11])\n",
    "        self.action_space = spaces.Discrete(4)\n",
    "\n",
    "        self._start = np.array([3, 0])\n",
    "        self._goal = np.array([3, 10])\n",
    "\n",
    "    def _clamp(self):\n",
    "        i, j = self._state\n",
    "        self._state = np.array([np.clip(i, 0, 3), np.clip(j, 0, 10)])\n",
    "\n",
    "    def reset(self):\n",
    "        self._state = self._start.copy()\n",
    "        self._timesteps = 0\n",
    "        self._total_rewards = 0\n",
    "        return tuple(self._state), {}\n",
    "\n",
    "    def step(self, action):\n",
    "        self._state += CliffWalkEnv.DELTA[action]\n",
    "        self._clamp()\n",
    "        i, j = self._state\n",
    "        if i == 3 and 1 <= j <= 9:\n",
    "            reward = -100\n",
    "            terminated = True\n",
    "        else:\n",
    "            reward = -1\n",
    "            if np.array_equal(self._state, self._goal):\n",
    "                terminated = True\n",
    "            else:\n",
    "                terminated = False\n",
    "        self._timesteps += 1\n",
    "        truncated = self._timesteps >= CliffWalkEnv.TRUNCATE_TIME\n",
    "        if truncated:\n",
    "            reward = -100\n",
    "        self._total_rewards += reward\n",
    "\n",
    "        return (\n",
    "            tuple(self._state),\n",
    "            reward,\n",
    "            terminated,\n",
    "            truncated,\n",
    "            {\"total_rewards\": self._total_rewards} if terminated or truncated else {},\n",
    "        )"
   ]
  },
  {
   "cell_type": "code",
   "execution_count": 284,
   "metadata": {},
   "outputs": [
    {
     "data": {
      "text/plain": [
       "((np.int64(3), np.int64(0)), {})"
      ]
     },
     "execution_count": 284,
     "metadata": {},
     "output_type": "execute_result"
    }
   ],
   "source": [
    "env = CliffWalkEnv()\n",
    "env.reset()"
   ]
  },
  {
   "cell_type": "code",
   "execution_count": 298,
   "metadata": {},
   "outputs": [
    {
     "data": {
      "text/plain": [
       "((np.int64(3), np.int64(10)), -1, True, False, {'total_rewards': -14})"
      ]
     },
     "execution_count": 298,
     "metadata": {},
     "output_type": "execute_result"
    }
   ],
   "source": [
    "env.step(2)"
   ]
  },
  {
   "cell_type": "code",
   "execution_count": 332,
   "metadata": {},
   "outputs": [],
   "source": [
    "alpha = 0.1\n",
    "gamma = 1\n",
    "epsilon = 0.1\n",
    "\n",
    "# Sarsa\n",
    "episodes = 500\n",
    "\n",
    "\n",
    "env = CliffWalkEnv()\n",
    "q = np.zeros((4, 11, 4))\n",
    "vis = np.zeros((4, 11))\n",
    "\n",
    "\n",
    "def epsilon_greedy(s):\n",
    "    if np.random.random() < epsilon:\n",
    "        return np.random.choice(range(4))\n",
    "    return np.argmax(q[s])\n",
    "\n",
    "\n",
    "def sarsa():\n",
    "    episode_rewards = []\n",
    "    for ep in range(episodes):\n",
    "        s, _ = env.reset()\n",
    "        vis[s] += 1\n",
    "        a = epsilon_greedy(s)\n",
    "        done = False\n",
    "        while not done:\n",
    "            s_prime, r, terminated, truncated, info = env.step(a)\n",
    "            vis[s_prime] += 1\n",
    "            a_prime = epsilon_greedy(s_prime)\n",
    "            q[s + (a,)] += alpha * (r + gamma * q[s_prime + (a_prime,)] - q[s + (a,)])\n",
    "            s = s_prime\n",
    "            a = a_prime\n",
    "            done = terminated or truncated\n",
    "        episode_rewards.append(info[\"total_rewards\"])\n",
    "\n",
    "\n",
    "pi = np.argmax(q, axis=2)"
   ]
  },
  {
   "cell_type": "code",
   "execution_count": 333,
   "metadata": {},
   "outputs": [
    {
     "data": {
      "image/png": "[encoded data removed]",
      "text/plain": [
       "<Figure size 640x480 with 1 Axes>"
      ]
     },
     "metadata": {},
     "output_type": "display_data"
    }
   ],
   "source": [
    "fig, ax = plt.subplots()\n",
    "\n",
    "window_size = 15\n",
    "kernel = np.ones(window_size) / window_size\n",
    "\n",
    "ax.plot(\n",
    "    range(window_size - 1, episodes),\n",
    "    np.convolve(episode_rewards, kernel, \"valid\"),\n",
    "    color=\"r\",\n",
    ")\n",
    "ax.set_xlabel(\"Episodes\")\n",
    "ax.set_ylabel(\"Sum of rewards during episode\")\n",
    "\n",
    "plt.show()"
   ]
  },
  {
   "cell_type": "code",
   "execution_count": 341,
   "metadata": {},
   "outputs": [
    {
     "data": {
      "image/png": "[encoded data removed]",
      "text/plain": [
       "<Figure size 1000x600 with 1 Axes>"
      ]
     },
     "metadata": {},
     "output_type": "display_data"
    }
   ],
   "source": [
    "fig, ax = plt.subplots(figsize=(10, 6))\n",
    "\n",
    "grid = np.ones_like(pi, dtype=float)\n",
    "grid[3, 1:10] = 0.3\n",
    "\n",
    "ax.imshow(grid, cmap=\"gray\", vmin=0, vmax=1)\n",
    "\n",
    "ax.text(0, 3, \"S\", ha=\"center\", va=\"center\", color=\"k\", size=\"xx-large\")\n",
    "ax.text(10, 3, \"G\", ha=\"center\", va=\"center\", color=\"k\", size=\"xx-large\")\n",
    "\n",
    "\n",
    "xv, yv = np.meshgrid(np.arange(11), np.arange(3))\n",
    "dx = np.zeros_like(xv, dtype=float)\n",
    "dy = np.zeros_like(yv, dtype=float)\n",
    "\n",
    "DIR_X = {0: 0, 1: 1, 2: 0, 3: -1}\n",
    "DIR_Y = {0: -1, 1: 0, 2: 1, 3: -0}\n",
    "\n",
    "for i in range(3):\n",
    "    for j in range(11):\n",
    "        dx[i, j] = DIR_X[pi[i, j]]\n",
    "        dy[i, j] = DIR_Y[pi[i, j]]\n",
    "\n",
    "ax.quiver(\n",
    "    xv,\n",
    "    yv,\n",
    "    dx,\n",
    "    dy,\n",
    "    color=\"skyblue\",\n",
    "    angles=\"xy\",\n",
    "    scale=25,\n",
    "    width=5e-3,\n",
    "    pivot=\"mid\",\n",
    "    label=\"Sarsa\",\n",
    ")\n",
    "\n",
    "\n",
    "ax.set_xticks(range(11))\n",
    "ax.set_yticks(range(4))\n",
    "ax.set_xticks(np.arange(-0.5, pi.shape[1], 1), minor=True)\n",
    "ax.set_yticks(np.arange(-0.5, pi.shape[0], 1), minor=True)\n",
    "ax.xaxis.tick_top()\n",
    "\n",
    "ax.grid(which=\"minor\", color=\"k\", linewidth=0.5)\n",
    "ax.legend(bbox_to_anchor=(1.2, 1))\n",
    "\n",
    "plt.show()"
   ]
  },
  {
   "cell_type": "code",
   "execution_count": 335,
   "metadata": {},
   "outputs": [
    {
     "data": {
      "text/plain": [
       "array([[-17., -16., -15., -14., -13., -13., -10.,  -8.,  -9.,  -9.,  -5.],\n",
       "       [-16., -15., -13., -12., -11.,  -9.,  -8.,  -7.,  -5.,  -4.,  -3.],\n",
       "       [-17., -16., -15., -14., -13., -11., -11.,  -6.,  -4.,  -2.,  -1.],\n",
       "       [-18.,   0.,   0.,   0.,   0.,   0.,   0.,   0.,   0.,   0.,   0.]])"
      ]
     },
     "execution_count": 335,
     "metadata": {},
     "output_type": "execute_result"
    }
   ],
   "source": [
    "np.round(np.max(q, axis=2))"
   ]
  },
  {
   "cell_type": "code",
   "execution_count": 336,
   "metadata": {},
   "outputs": [
    {
     "data": {
      "text/plain": [
       "array([[647., 577., 504., 483., 417., 414., 335., 243., 220., 238., 305.],\n",
       "       [940., 830., 695., 612., 584., 724., 678., 592., 502., 385., 367.],\n",
       "       [948., 353., 272., 267., 195., 280., 188., 209., 342., 274., 408.],\n",
       "       [792.,  39.,   8.,  10.,   7.,  10.,   3.,   7.,   7.,   9., 354.]])"
      ]
     },
     "execution_count": 336,
     "metadata": {},
     "output_type": "execute_result"
    }
   ],
   "source": [
    "vis"
   ]
  },
  {
   "cell_type": "code",
   "execution_count": 263,
   "metadata": {},
   "outputs": [
    {
     "data": {
      "text/plain": [
       "array([ True,  True])"
      ]
     },
     "execution_count": 263,
     "metadata": {},
     "output_type": "execute_result"
    }
   ],
   "source": [
    "q = np.zeros((4, 11, 4))\n",
    "q[tuple(np.array([1, 2]))]\n",
    "(1, 2), (3,)\n",
    "# [np.random.choice(range(4)) for _ in range(100)]\n",
    "# np.argmax(q[(3, 0)])\n",
    "np.array([1, 2]) == np.array([1, 2])"
   ]
  },
  {
   "cell_type": "code",
   "execution_count": 141,
   "metadata": {},
   "outputs": [
    {
     "data": {
      "text/plain": [
       "(np.int64(2), np.int64(4))"
      ]
     },
     "execution_count": 141,
     "metadata": {},
     "output_type": "execute_result"
    }
   ],
   "source": [
    "pi = np.random.randint(0, 4, (4, 11))\n",
    "# pi[3][10]\n",
    "pi\n",
    "x, y = np.array([1, 2]) + np.array([1, 2])\n",
    "x, y"
   ]
  },
  {
   "cell_type": "code",
   "execution_count": 124,
   "metadata": {},
   "outputs": [
    {
     "data": {
      "text/plain": [
       "array([[2, 3, 2, 2, 0, 2, 2, 0, 3, 0, 0],\n",
       "       [0, 3, 3, 2, 0, 1, 1, 2, 0, 1, 2],\n",
       "       [2, 2, 3, 1, 0, 3, 2, 0, 3, 3, 3],\n",
       "       [0, 3, 3, 1, 2, 0, 1, 2, 0, 0, 2]])"
      ]
     },
     "execution_count": 124,
     "metadata": {},
     "output_type": "execute_result"
    }
   ],
   "source": [
    "pi"
   ]
  },
  {
   "cell_type": "code",
   "execution_count": 98,
   "metadata": {},
   "outputs": [
    {
     "data": {
      "text/plain": [
       "np.int64(3)"
      ]
     },
     "execution_count": 98,
     "metadata": {},
     "output_type": "execute_result"
    }
   ],
   "source": [
    "xv[2, 3]"
   ]
  },
  {
   "cell_type": "code",
   "execution_count": 59,
   "metadata": {},
   "outputs": [
    {
     "data": {
      "text/plain": [
       "dtype('int64')"
      ]
     },
     "execution_count": 59,
     "metadata": {},
     "output_type": "execute_result"
    }
   ],
   "source": [
    "grid.dtype"
   ]
  }
 ],
 "metadata": {
  "kernelspec": {
   "display_name": ".venv",
   "language": "python",
   "name": "python3"
  },
  "language_info": {
   "codemirror_mode": {
    "name": "ipython",
    "version": 3
   },
   "file_extension": ".py",
   "mimetype": "text/x-python",
   "name": "python",
   "nbconvert_exporter": "python",
   "pygments_lexer": "ipython3",
   "version": "3.10.12"
  }
 },
 "nbformat": 4,
 "nbformat_minor": 2
}
